{
 "cells": [
  {
   "cell_type": "markdown",
   "id": "84bbfa3c-141e-4cc2-a4dc-94b7896a73d1",
   "metadata": {},
   "source": [
    "## THIS IS A MARKDOWN COMMENT"
   ]
  },
  {
   "cell_type": "markdown",
   "id": "02ab7178-0b1c-4fbe-99b2-03b31faba299",
   "metadata": {},
   "source": [
    "## 22BDA70050 (AAYUSH SHARMA)"
   ]
  },
  {
   "cell_type": "markdown",
   "id": "66bf285b-5cba-4778-85a3-1388ee54acd4",
   "metadata": {},
   "source": [
    "Performing basic operations using Jupyter Notebook"
   ]
  },
  {
   "cell_type": "code",
   "execution_count": 3,
   "id": "ac2a54bc-e7f1-43dd-b630-335b69622934",
   "metadata": {},
   "outputs": [],
   "source": [
    "import pandas as pd\n",
    "import numpy as np\n",
    "import matplotlib.pyplot as plt"
   ]
  },
  {
   "cell_type": "code",
   "execution_count": 4,
   "id": "0f609da3-acf4-45a1-bd4f-266e67c051c1",
   "metadata": {},
   "outputs": [],
   "source": [
    "data=pd.read_csv(\"C:/study/DESCRIPTIVE ANALYTICS/EXP_2_DA.csv\")"
   ]
  },
  {
   "cell_type": "code",
   "execution_count": 5,
   "id": "ea0cbd7d-1ef0-4da6-972f-e0d3059da1a3",
   "metadata": {},
   "outputs": [
    {
     "data": {
      "text/html": [
       "<div>\n",
       "<style scoped>\n",
       "    .dataframe tbody tr th:only-of-type {\n",
       "        vertical-align: middle;\n",
       "    }\n",
       "\n",
       "    .dataframe tbody tr th {\n",
       "        vertical-align: top;\n",
       "    }\n",
       "\n",
       "    .dataframe thead th {\n",
       "        text-align: right;\n",
       "    }\n",
       "</style>\n",
       "<table border=\"1\" class=\"dataframe\">\n",
       "  <thead>\n",
       "    <tr style=\"text-align: right;\">\n",
       "      <th></th>\n",
       "      <th>EID</th>\n",
       "      <th>ROLE</th>\n",
       "      <th>SALARY</th>\n",
       "    </tr>\n",
       "  </thead>\n",
       "  <tbody>\n",
       "    <tr>\n",
       "      <th>0</th>\n",
       "      <td>1</td>\n",
       "      <td>SDE</td>\n",
       "      <td>50000</td>\n",
       "    </tr>\n",
       "    <tr>\n",
       "      <th>1</th>\n",
       "      <td>2</td>\n",
       "      <td>BA</td>\n",
       "      <td>50000</td>\n",
       "    </tr>\n",
       "    <tr>\n",
       "      <th>2</th>\n",
       "      <td>3</td>\n",
       "      <td>SDE</td>\n",
       "      <td>60000</td>\n",
       "    </tr>\n",
       "    <tr>\n",
       "      <th>3</th>\n",
       "      <td>4</td>\n",
       "      <td>BA</td>\n",
       "      <td>40000</td>\n",
       "    </tr>\n",
       "    <tr>\n",
       "      <th>4</th>\n",
       "      <td>5</td>\n",
       "      <td>DS</td>\n",
       "      <td>75000</td>\n",
       "    </tr>\n",
       "  </tbody>\n",
       "</table>\n",
       "</div>"
      ],
      "text/plain": [
       "   EID ROLE  SALARY\n",
       "0    1  SDE   50000\n",
       "1    2   BA   50000\n",
       "2    3  SDE   60000\n",
       "3    4   BA   40000\n",
       "4    5   DS   75000"
      ]
     },
     "execution_count": 5,
     "metadata": {},
     "output_type": "execute_result"
    }
   ],
   "source": [
    "data.head()"
   ]
  },
  {
   "cell_type": "code",
   "execution_count": 6,
   "id": "6a4fb772-0901-48ba-9539-7e71fb3217bb",
   "metadata": {},
   "outputs": [
    {
     "data": {
      "text/plain": [
       "Index(['EID', 'ROLE', 'SALARY'], dtype='object')"
      ]
     },
     "execution_count": 6,
     "metadata": {},
     "output_type": "execute_result"
    }
   ],
   "source": [
    "data.columns"
   ]
  },
  {
   "cell_type": "code",
   "execution_count": 7,
   "id": "c53ed215-396b-4393-8955-cd2dd6cffc98",
   "metadata": {},
   "outputs": [],
   "source": [
    "roles = data['ROLE']\n",
    "salaries = data['SALARY']"
   ]
  },
  {
   "cell_type": "code",
   "execution_count": 10,
   "id": "bd5de239-2faf-490e-b79e-77a4081093d6",
   "metadata": {},
   "outputs": [
    {
     "data": {
      "image/png": "[encoded data removed]",
      "text/plain": [
       "<Figure size 300x300 with 1 Axes>"
      ]
     },
     "metadata": {},
     "output_type": "display_data"
    }
   ],
   "source": [
    "plt.figure(figsize=(3, 3))\n",
    "plt.bar(roles, salaries, color='skyblue')\n",
    "plt.xlabel('Role')\n",
    "plt.ylabel('Salary')\n",
    "plt.title('Salary by Role')\n",
    "plt.show()"
   ]
  },
  {
   "cell_type": "code",
   "execution_count": null,
   "id": "b1a9bab6-de3f-4c26-9a49-0c3c39e2dc9c",
   "metadata": {},
   "outputs": [],
   "source": []
  }
 ],
 "metadata": {
  "kernelspec": {
   "display_name": "Python 3 (ipykernel)",
   "language": "python",
   "name": "python3"
  },
  "language_info": {
   "codemirror_mode": {
    "name": "ipython",
    "version": 3
   },
   "file_extension": ".py",
   "mimetype": "text/x-python",
   "name": "python",
   "nbconvert_exporter": "python",
   "pygments_lexer": "ipython3",
   "version": "3.12.6"
  }
 },
 "nbformat": 4,
 "nbformat_minor": 5
}
